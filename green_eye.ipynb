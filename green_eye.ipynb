{
  "nbformat": 4,
  "nbformat_minor": 0,
  "metadata": {
    "colab": {
      "provenance": [],
      "authorship_tag": "ABX9TyO65G4V7rtlEAfj7HK1KO6R",
      "include_colab_link": true
    },
    "kernelspec": {
      "name": "python3",
      "display_name": "Python 3"
    },
    "language_info": {
      "name": "python"
    }
  },
  "cells": [
    {
      "cell_type": "markdown",
      "metadata": {
        "id": "view-in-github",
        "colab_type": "text"
      },
      "source": [
        "<a href=\"https://colab.research.google.com/github/robotonio/greeneye_sml/blob/main/green_eye.ipynb\" target=\"_parent\"><img src=\"https://colab.research.google.com/assets/colab-badge.svg\" alt=\"Open In Colab\"/></a>"
      ]
    },
    {
      "cell_type": "markdown",
      "source": [
        "Connect and authentcate with Google Earth Engine account (do it just the first time)"
      ],
      "metadata": {
        "id": "SK8LNdC708lU"
      }
    },
    {
      "cell_type": "code",
      "metadata": {
        "id": "3gkiwVbrVpLp"
      },
      "source": [
        "#Import earth engine\n",
        "import ee\n",
        "\n",
        "# Trigger the authentication flow.\n",
        "ee.Authenticate()\n",
        "\n",
        "# Initialize the library.\n",
        "ee.Initialize()"
      ],
      "execution_count": null,
      "outputs": []
    },
    {
      "cell_type": "markdown",
      "source": [
        "Upload files:\n",
        "\n",
        "\n",
        "1.   image files you need to process\n",
        "2.   csv files with the images data (lon/lat etc)*italicized text*\n",
        "\n"
      ],
      "metadata": {
        "id": "YIc7H_Dc1aZM"
      }
    },
    {
      "cell_type": "code",
      "source": [
        "from google.colab import files\n",
        "\n",
        "# upload GREENEYE photos 017, 217, 222, 236\n",
        "# upload LEVELUP photos 016, 023, 083, 088, 337\n",
        "uploaded = files.upload()"
      ],
      "metadata": {
        "id": "Hlpt7sqbU6GD"
      },
      "execution_count": null,
      "outputs": []
    },
    {
      "cell_type": "markdown",
      "source": [
        "Display the original image you want to process"
      ],
      "metadata": {
        "id": "AdBx1H_910hh"
      }
    },
    {
      "cell_type": "code",
      "source": [
        "import cv2\n",
        "from google.colab.patches import cv2_imshow\n",
        "import numpy as np\n",
        "\n",
        "image_num = 83\n",
        "image = cv2.imread(f\"photo_{image_num:03d}.jpg\")\n",
        "# resize image\n",
        "image = cv2.resize(image, (1296, 972), interpolation = cv2.INTER_AREA)\n",
        "cv2_imshow(image)\n",
        "cv2.waitKey(0)\n",
        "\n"
      ],
      "metadata": {
        "id": "w0SesmUtY33D"
      },
      "execution_count": null,
      "outputs": []
    },
    {
      "cell_type": "markdown",
      "source": [
        "Find the longitute and latitude of the image, from the csv file"
      ],
      "metadata": {
        "id": "EfIsoDeX18cR"
      }
    },
    {
      "cell_type": "code",
      "source": [
        "import csv\n",
        "\n",
        "lon = lat = 0\n",
        "images_data = []\n",
        "with open('data.csv') as csvfile:\n",
        "  images_data = csv.reader(csvfile, delimiter=',')\n",
        "\n",
        "  for img_data in images_data:\n",
        "    # print(img_data)\n",
        "    if img_data[0] == str(image_num):\n",
        "      lon = float(img_data[2]) + 4\n",
        "      lat = float(img_data[3]) - 4\n",
        "      break\n",
        "# lat, lon = 19.801872, -91.433737\n",
        "print(lat, lon)\n",
        "\n"
      ],
      "metadata": {
        "id": "VHLJJvxBUfLM"
      },
      "execution_count": null,
      "outputs": []
    },
    {
      "cell_type": "markdown",
      "source": [
        "Find the location and create the ndvi color palette"
      ],
      "metadata": {
        "id": "6MGLkqUQ2I0M"
      }
    },
    {
      "cell_type": "code",
      "metadata": {
        "id": "6EscS18VIslB"
      },
      "source": [
        "geometry = ee.Geometry.Point([lon, lat])\n",
        "\n",
        "#location = roi.geometry().centroid().coordinates().getInfo()[::-1]\n",
        "location = geometry.coordinates().getInfo()[::-1]\n",
        "#Load 2017 Landsat 8\n",
        "landsat = ee.ImageCollection('LANDSAT/LC08/C01/T1_TOA')\\\n",
        ".filterDate('2015-01-01', '2015-12-31')\\\n",
        ".median()\n",
        "\n",
        "# Compute NDVI\n",
        "ndvi = landsat.normalizedDifference(['B4', 'B3'])\n",
        "\n",
        "NDVI_Palette = 'FF0000', 'FFFF00', '000000'\n",
        "\n",
        "\n"
      ],
      "execution_count": null,
      "outputs": []
    },
    {
      "cell_type": "markdown",
      "source": [
        "Display the google maps image, with the NDVI layer"
      ],
      "metadata": {
        "id": "paa7Z3lb2NTd"
      }
    },
    {
      "cell_type": "code",
      "source": [
        "# Import the Folium library.\n",
        "import folium\n",
        "\n",
        "# Define a method for displaying Earth Engine image tiles to folium map.\n",
        "def add_ee_layer(self, ee_image_object, vis_params, name):\n",
        "  map_id_dict = ee.Image(ee_image_object).getMapId(vis_params)\n",
        "  folium.raster_layers.TileLayer(\n",
        "    tiles = map_id_dict['tile_fetcher'].url_format,\n",
        "    attr = 'Map Data &copy; <a href=\"https://earthengine.google.com/\">Google Earth Engine</a>',\n",
        "    name = name,\n",
        "    overlay = True,\n",
        "    control = True\n",
        "  ).add_to(self)\n",
        "\n",
        "# Add EE drawing method to folium.\n",
        "folium.Map.add_ee_layer = add_ee_layer\n",
        "\n",
        "# Create a folium map object.\n",
        "my_map = folium.Map(location=[lon, lat], zoom_start = 9)\n",
        "# Display\n",
        "my_map.add_ee_layer(ndvi, {'min': -0.3, 'max': 0.5, 'palette': NDVI_Palette}, 'NDVI')\n",
        "\n",
        "# Add a layer control panel to the map.\n",
        "my_map.add_child(folium.LayerControl())\n",
        "# Display the map.\n"
      ],
      "metadata": {
        "id": "Z6nHwOrT08KT"
      },
      "execution_count": null,
      "outputs": []
    },
    {
      "cell_type": "markdown",
      "source": [
        "Save the map as html file"
      ],
      "metadata": {
        "id": "FDhf07JeNMKa"
      }
    },
    {
      "cell_type": "code",
      "source": [
        "image_path = f\"nigeria_{image_num}.html\"  # Replace \"/path/to/map.png\" with the desired path and filename for the image\n",
        "my_map.save(image_path)\n"
      ],
      "metadata": {
        "id": "gUHZcdJS252q"
      },
      "execution_count": null,
      "outputs": []
    }
  ]
}